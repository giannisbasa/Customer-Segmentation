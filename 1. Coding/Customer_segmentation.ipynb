{
 "cells": [
  {
   "attachments": {},
   "cell_type": "markdown",
   "metadata": {},
   "source": [
    "### Customer Segmentation\n",
    "Scope: The goal of this project is to make a segmentation of prospect customers on new markets."
   ]
  },
  {
   "cell_type": "code",
   "execution_count": 1,
   "metadata": {},
   "outputs": [
    {
     "name": "stdout",
     "output_type": "stream",
     "text": [
      "\u001b[H\u001b[2J"
     ]
    }
   ],
   "source": [
    "try:\n",
    "    from IPython import get_ipython\n",
    "    get_ipython().magic('clear')\n",
    "    get_ipython().magic('reset -f')\n",
    "except:\n",
    "    pass"
   ]
  },
  {
   "attachments": {},
   "cell_type": "markdown",
   "metadata": {},
   "source": [
    "## 1. Import Libraries"
   ]
  },
  {
   "cell_type": "code",
   "execution_count": 33,
   "metadata": {},
   "outputs": [],
   "source": [
    "# Import necessary libraries\n",
    "import pandas as pd\n",
    "import numpy as np\n",
    "import matplotlib.pyplot as plt\n",
    "%matplotlib inline\n",
    "import seaborn as sns\n",
    "from fast_ml.feature_selection import get_duplicate_features\n",
    "pd.pandas.set_option('display.max_columns', None)\n",
    "import os\n",
    "import pathlib\n",
    "from geopy.geocoders import Nominatim\n",
    "import datetime\n",
    "from dateutil.relativedelta import relativedelta\n",
    "from statsmodels.stats.outliers_influence import variance_inflation_factor\n",
    "from statsmodels.tools.tools import add_constant\n",
    "import itertools\n",
    "from scipy.stats import chi2_contingency\n",
    "from itertools import product\n",
    "import scipy.stats as ss\n",
    "from sklearn.preprocessing import StandardScaler\n",
    "from sklearn.model_selection import train_test_split\n",
    "from sklearn.linear_model import LinearRegression\n",
    "from sklearn.metrics import mean_squared_error, r2_score\n",
    "from sklearn.ensemble import RandomForestRegressor\n",
    "import pickle\n",
    "import sys \n",
    "\n",
    "import warnings\n",
    "warnings.filterwarnings(\"ignore\")"
   ]
  },
  {
   "attachments": {},
   "cell_type": "markdown",
   "metadata": {},
   "source": [
    "## 2. Functions"
   ]
  },
  {
   "cell_type": "code",
   "execution_count": 35,
   "metadata": {},
   "outputs": [],
   "source": [
    "# Call functions\n",
    "sys.path.insert(1, '/Users/macbookpro/Desktop/PYTHON/1. PROJECTS/Help_files')\n",
    "\n",
    "from Functions import compute_vif, calc_outliers_df, calc_outliers_var, distribution, corr_cat, box_plot, distplot, histplot"
   ]
  },
  {
   "attachments": {},
   "cell_type": "markdown",
   "metadata": {},
   "source": [
    "## 3. Gathering Data"
   ]
  },
  {
   "cell_type": "code",
   "execution_count": 4,
   "metadata": {},
   "outputs": [
    {
     "name": "stdout",
     "output_type": "stream",
     "text": [
      "Shape of the dataset:  (8068, 11)\n"
     ]
    }
   ],
   "source": [
    "# Import training dataset\n",
    "df1 = pd.read_csv(r'/Users/macbookpro/Desktop/PYTHON/1. PROJECTS/2. Customer Segmentation/2. Data/Train.csv')\n",
    "print('Shape of the dataset: ', df1.shape)"
   ]
  },
  {
   "cell_type": "code",
   "execution_count": 5,
   "metadata": {},
   "outputs": [
    {
     "name": "stdout",
     "output_type": "stream",
     "text": [
      "Shape of the dataset:  (2627, 10)\n"
     ]
    }
   ],
   "source": [
    "# Test dataset\n",
    "df2 = pd.read_csv(r'/Users/macbookpro/Desktop/PYTHON/1. PROJECTS/2. Customer Segmentation/2. Data/Test.csv')\n",
    "print('Shape of the dataset: ', df2.shape)"
   ]
  },
  {
   "cell_type": "code",
   "execution_count": 6,
   "metadata": {},
   "outputs": [],
   "source": [
    "# Copy datasets\n",
    "train = df1.copy()\n",
    "test = df2.copy()"
   ]
  },
  {
   "attachments": {},
   "cell_type": "markdown",
   "metadata": {},
   "source": [
    "## 4. Exploratory Data Analysis"
   ]
  },
  {
   "cell_type": "code",
   "execution_count": 7,
   "metadata": {},
   "outputs": [
    {
     "name": "stdout",
     "output_type": "stream",
     "text": [
      "Shape of the dataset:  (8068, 11)\n"
     ]
    },
    {
     "data": {
      "text/html": [
       "<div>\n",
       "<style scoped>\n",
       "    .dataframe tbody tr th:only-of-type {\n",
       "        vertical-align: middle;\n",
       "    }\n",
       "\n",
       "    .dataframe tbody tr th {\n",
       "        vertical-align: top;\n",
       "    }\n",
       "\n",
       "    .dataframe thead th {\n",
       "        text-align: right;\n",
       "    }\n",
       "</style>\n",
       "<table border=\"1\" class=\"dataframe\">\n",
       "  <thead>\n",
       "    <tr style=\"text-align: right;\">\n",
       "      <th></th>\n",
       "      <th>ID</th>\n",
       "      <th>Gender</th>\n",
       "      <th>Ever_Married</th>\n",
       "      <th>Age</th>\n",
       "      <th>Graduated</th>\n",
       "      <th>Profession</th>\n",
       "      <th>Work_Experience</th>\n",
       "      <th>Spending_Score</th>\n",
       "      <th>Family_Size</th>\n",
       "      <th>Var_1</th>\n",
       "      <th>Segmentation</th>\n",
       "    </tr>\n",
       "  </thead>\n",
       "  <tbody>\n",
       "    <tr>\n",
       "      <th>0</th>\n",
       "      <td>462809</td>\n",
       "      <td>Male</td>\n",
       "      <td>No</td>\n",
       "      <td>22</td>\n",
       "      <td>No</td>\n",
       "      <td>Healthcare</td>\n",
       "      <td>1.0</td>\n",
       "      <td>Low</td>\n",
       "      <td>4.0</td>\n",
       "      <td>Cat_4</td>\n",
       "      <td>D</td>\n",
       "    </tr>\n",
       "    <tr>\n",
       "      <th>1</th>\n",
       "      <td>462643</td>\n",
       "      <td>Female</td>\n",
       "      <td>Yes</td>\n",
       "      <td>38</td>\n",
       "      <td>Yes</td>\n",
       "      <td>Engineer</td>\n",
       "      <td>NaN</td>\n",
       "      <td>Average</td>\n",
       "      <td>3.0</td>\n",
       "      <td>Cat_4</td>\n",
       "      <td>A</td>\n",
       "    </tr>\n",
       "    <tr>\n",
       "      <th>2</th>\n",
       "      <td>466315</td>\n",
       "      <td>Female</td>\n",
       "      <td>Yes</td>\n",
       "      <td>67</td>\n",
       "      <td>Yes</td>\n",
       "      <td>Engineer</td>\n",
       "      <td>1.0</td>\n",
       "      <td>Low</td>\n",
       "      <td>1.0</td>\n",
       "      <td>Cat_6</td>\n",
       "      <td>B</td>\n",
       "    </tr>\n",
       "    <tr>\n",
       "      <th>3</th>\n",
       "      <td>461735</td>\n",
       "      <td>Male</td>\n",
       "      <td>Yes</td>\n",
       "      <td>67</td>\n",
       "      <td>Yes</td>\n",
       "      <td>Lawyer</td>\n",
       "      <td>0.0</td>\n",
       "      <td>High</td>\n",
       "      <td>2.0</td>\n",
       "      <td>Cat_6</td>\n",
       "      <td>B</td>\n",
       "    </tr>\n",
       "    <tr>\n",
       "      <th>4</th>\n",
       "      <td>462669</td>\n",
       "      <td>Female</td>\n",
       "      <td>Yes</td>\n",
       "      <td>40</td>\n",
       "      <td>Yes</td>\n",
       "      <td>Entertainment</td>\n",
       "      <td>NaN</td>\n",
       "      <td>High</td>\n",
       "      <td>6.0</td>\n",
       "      <td>Cat_6</td>\n",
       "      <td>A</td>\n",
       "    </tr>\n",
       "  </tbody>\n",
       "</table>\n",
       "</div>"
      ],
      "text/plain": [
       "       ID  Gender Ever_Married  Age Graduated     Profession  Work_Experience  \\\n",
       "0  462809    Male           No   22        No     Healthcare              1.0   \n",
       "1  462643  Female          Yes   38       Yes       Engineer              NaN   \n",
       "2  466315  Female          Yes   67       Yes       Engineer              1.0   \n",
       "3  461735    Male          Yes   67       Yes         Lawyer              0.0   \n",
       "4  462669  Female          Yes   40       Yes  Entertainment              NaN   \n",
       "\n",
       "  Spending_Score  Family_Size  Var_1 Segmentation  \n",
       "0            Low          4.0  Cat_4            D  \n",
       "1        Average          3.0  Cat_4            A  \n",
       "2            Low          1.0  Cat_6            B  \n",
       "3           High          2.0  Cat_6            B  \n",
       "4           High          6.0  Cat_6            A  "
      ]
     },
     "execution_count": 7,
     "metadata": {},
     "output_type": "execute_result"
    }
   ],
   "source": [
    "# Inspect the train dataset\n",
    "print('Shape of the dataset: ', train.shape)\n",
    "train.head()"
   ]
  },
  {
   "attachments": {},
   "cell_type": "markdown",
   "metadata": {},
   "source": [
    "### 4.1 Univariate analysis\n",
    "#### 4.1.1 Distribution of values\n",
    "Notes:\n",
    "1. We have unique ids - prospect customers\n",
    "2. Men are 10pp more than women (55% vs 45%)\n",
    "3. Approximately 60% of prospect customers are married\n",
    "4. Age variable has a positive skewness  and the median age is about 40 years old\n",
    "5. More than 60% of prospect customers are graduated\n",
    "6. There are 9 different professions and about 1/3 of prospect customers are considerated as artists\n",
    "7. About 60% of prospect customers have only 0 to 1 years of experience. Half of them have no any experience\n",
    "8. The majority of prospect customers ~85% have a low and medium spending score. A big part of them about 60% have low spending score\n",
    "9. About 20% have no other family member and another 30% have only one family member\n",
    "10. Segmentations are spread equally "
   ]
  },
  {
   "cell_type": "code",
   "execution_count": 8,
   "metadata": {},
   "outputs": [
    {
     "name": "stdout",
     "output_type": "stream",
     "text": [
      "There are unique IDs in the dataset:  True\n"
     ]
    }
   ],
   "source": [
    "# 1. Id - Check if we have unique ids\n",
    "print('There are unique IDs in the dataset: ', train['ID'].nunique() == train.shape[0])"
   ]
  },
  {
   "cell_type": "code",
   "execution_count": 9,
   "metadata": {},
   "outputs": [
    {
     "data": {
      "text/plain": [
       "Male      4417\n",
       "Female    3651\n",
       "Name: Gender, dtype: int64"
      ]
     },
     "metadata": {},
     "output_type": "display_data"
    },
    {
     "data": {
      "text/plain": [
       "Male      54.7\n",
       "Female    45.3\n",
       "Name: Gender, dtype: float64"
      ]
     },
     "metadata": {},
     "output_type": "display_data"
    }
   ],
   "source": [
    "# 2. Gender - Distribution of genders on the dataset\n",
    "display(train['Gender'].value_counts(dropna=False))\n",
    "display(round(train['Gender'].value_counts(dropna=False, normalize=True)*100,1))"
   ]
  },
  {
   "cell_type": "code",
   "execution_count": 10,
   "metadata": {},
   "outputs": [
    {
     "data": {
      "text/plain": [
       "Yes    4643\n",
       "No     3285\n",
       "NaN     140\n",
       "Name: Ever_Married, dtype: int64"
      ]
     },
     "metadata": {},
     "output_type": "display_data"
    },
    {
     "data": {
      "text/plain": [
       "Yes    57.5\n",
       "No     40.7\n",
       "NaN     1.7\n",
       "Name: Ever_Married, dtype: float64"
      ]
     },
     "metadata": {},
     "output_type": "display_data"
    }
   ],
   "source": [
    "# 3. Married - Distribution of married status on the dataset\n",
    "display(train['Ever_Married'].value_counts(dropna=False))\n",
    "display(round(train['Ever_Married'].value_counts(dropna=False, normalize=True)*100,1))"
   ]
  },
  {
   "cell_type": "code",
   "execution_count": 11,
   "metadata": {},
   "outputs": [
    {
     "name": "stdout",
     "output_type": "stream",
     "text": [
      "Skewness of the Age is : 0.696020586305935\n"
     ]
    },
    {
     "data": {
      "image/png": "[encoded data removed]",
      "text/plain": [
       "<Figure size 1500x500 with 1 Axes>"
      ]
     },
     "metadata": {},
     "output_type": "display_data"
    }
   ],
   "source": [
    "# 4. Age - Distribution of age\n",
    "distplot(train, 'Age')"
   ]
  },
  {
   "cell_type": "code",
   "execution_count": 12,
   "metadata": {},
   "outputs": [
    {
     "data": {
      "text/plain": [
       "Yes    4968\n",
       "No     3022\n",
       "NaN      78\n",
       "Name: Graduated, dtype: int64"
      ]
     },
     "metadata": {},
     "output_type": "display_data"
    },
    {
     "data": {
      "text/plain": [
       "Yes    61.6\n",
       "No     37.5\n",
       "NaN     1.0\n",
       "Name: Graduated, dtype: float64"
      ]
     },
     "metadata": {},
     "output_type": "display_data"
    }
   ],
   "source": [
    "# 5. Graduated - Distribution of graduation status on the dataset\n",
    "display(train['Graduated'].value_counts(dropna=False))\n",
    "display(round(train['Graduated'].value_counts(dropna=False, normalize=True)*100,1))"
   ]
  },
  {
   "cell_type": "code",
   "execution_count": 13,
   "metadata": {},
   "outputs": [
    {
     "data": {
      "text/plain": [
       "Artist           2516\n",
       "Healthcare       1332\n",
       "Entertainment     949\n",
       "Engineer          699\n",
       "Doctor            688\n",
       "Lawyer            623\n",
       "Executive         599\n",
       "Marketing         292\n",
       "Homemaker         246\n",
       "NaN               124\n",
       "Name: Profession, dtype: int64"
      ]
     },
     "metadata": {},
     "output_type": "display_data"
    },
    {
     "data": {
      "text/plain": [
       "Artist           31.2\n",
       "Healthcare       16.5\n",
       "Entertainment    11.8\n",
       "Engineer          8.7\n",
       "Doctor            8.5\n",
       "Lawyer            7.7\n",
       "Executive         7.4\n",
       "Marketing         3.6\n",
       "Homemaker         3.0\n",
       "NaN               1.5\n",
       "Name: Profession, dtype: float64"
      ]
     },
     "metadata": {},
     "output_type": "display_data"
    }
   ],
   "source": [
    "# 6. Profession - Distribution of professions on the dataset\n",
    "display(train['Profession'].value_counts(dropna=False))\n",
    "display(round(train['Profession'].value_counts(dropna=False, normalize=True)*100,1))"
   ]
  },
  {
   "cell_type": "code",
   "execution_count": 14,
   "metadata": {},
   "outputs": [
    {
     "data": {
      "text/plain": [
       "0.0     2318\n",
       "1.0     2354\n",
       "2.0      286\n",
       "3.0      255\n",
       "4.0      253\n",
       "5.0      194\n",
       "6.0      204\n",
       "7.0      196\n",
       "8.0      463\n",
       "9.0      474\n",
       "10.0      53\n",
       "11.0      50\n",
       "12.0      48\n",
       "13.0      46\n",
       "14.0      45\n",
       "NaN      829\n",
       "Name: Work_Experience, dtype: int64"
      ]
     },
     "metadata": {},
     "output_type": "display_data"
    },
    {
     "data": {
      "text/plain": [
       "0.0     28.7\n",
       "1.0     29.2\n",
       "2.0      3.5\n",
       "3.0      3.2\n",
       "4.0      3.1\n",
       "5.0      2.4\n",
       "6.0      2.5\n",
       "7.0      2.4\n",
       "8.0      5.7\n",
       "9.0      5.9\n",
       "10.0     0.7\n",
       "11.0     0.6\n",
       "12.0     0.6\n",
       "13.0     0.6\n",
       "14.0     0.6\n",
       "NaN     10.3\n",
       "Name: Work_Experience, dtype: float64"
      ]
     },
     "metadata": {},
     "output_type": "display_data"
    }
   ],
   "source": [
    "# 7. Work_Experience - Distribution of Work_Experiences on the dataset\n",
    "display(train['Work_Experience'].value_counts(dropna=False).sort_index())\n",
    "display(round(train['Work_Experience'].value_counts(dropna=False, normalize=True)*100,1).sort_index())"
   ]
  },
  {
   "cell_type": "code",
   "execution_count": 15,
   "metadata": {},
   "outputs": [
    {
     "data": {
      "text/plain": [
       "Average    1974\n",
       "High       1216\n",
       "Low        4878\n",
       "Name: Spending_Score, dtype: int64"
      ]
     },
     "metadata": {},
     "output_type": "display_data"
    },
    {
     "data": {
      "text/plain": [
       "Average    24.5\n",
       "High       15.1\n",
       "Low        60.5\n",
       "Name: Spending_Score, dtype: float64"
      ]
     },
     "metadata": {},
     "output_type": "display_data"
    }
   ],
   "source": [
    "# 8. Spending_Score - Distribution of Spending_Scores on the dataset\n",
    "display(train['Spending_Score'].value_counts(dropna=False).sort_index())\n",
    "display(round(train['Spending_Score'].value_counts(dropna=False, normalize=True)*100,1).sort_index())"
   ]
  },
  {
   "cell_type": "code",
   "execution_count": 16,
   "metadata": {},
   "outputs": [
    {
     "data": {
      "text/plain": [
       "1.0    1453\n",
       "2.0    2390\n",
       "3.0    1497\n",
       "4.0    1379\n",
       "5.0     612\n",
       "6.0     212\n",
       "7.0      96\n",
       "8.0      50\n",
       "9.0      44\n",
       "NaN     335\n",
       "Name: Family_Size, dtype: int64"
      ]
     },
     "metadata": {},
     "output_type": "display_data"
    },
    {
     "data": {
      "text/plain": [
       "1.0    18.0\n",
       "2.0    29.6\n",
       "3.0    18.6\n",
       "4.0    17.1\n",
       "5.0     7.6\n",
       "6.0     2.6\n",
       "7.0     1.2\n",
       "8.0     0.6\n",
       "9.0     0.5\n",
       "NaN     4.2\n",
       "Name: Family_Size, dtype: float64"
      ]
     },
     "metadata": {},
     "output_type": "display_data"
    }
   ],
   "source": [
    "# 9. Family_Size - Distribution of Family_Sizes on the dataset\n",
    "display(train['Family_Size'].value_counts(dropna=False).sort_index())\n",
    "display(round(train['Family_Size'].value_counts(dropna=False, normalize=True)*100,1).sort_index())"
   ]
  },
  {
   "cell_type": "code",
   "execution_count": 17,
   "metadata": {},
   "outputs": [
    {
     "data": {
      "text/plain": [
       "Cat_1     133\n",
       "Cat_2     422\n",
       "Cat_3     822\n",
       "Cat_4    1089\n",
       "Cat_5      85\n",
       "Cat_6    5238\n",
       "Cat_7     203\n",
       "NaN        76\n",
       "Name: Var_1, dtype: int64"
      ]
     },
     "metadata": {},
     "output_type": "display_data"
    },
    {
     "data": {
      "text/plain": [
       "Cat_1     1.6\n",
       "Cat_2     5.2\n",
       "Cat_3    10.2\n",
       "Cat_4    13.5\n",
       "Cat_5     1.1\n",
       "Cat_6    64.9\n",
       "Cat_7     2.5\n",
       "NaN       0.9\n",
       "Name: Var_1, dtype: float64"
      ]
     },
     "metadata": {},
     "output_type": "display_data"
    }
   ],
   "source": [
    "# 10. Var_1 - Distribution of Var_1s on the dataset\n",
    "display(train['Var_1'].value_counts(dropna=False).sort_index())\n",
    "display(round(train['Var_1'].value_counts(dropna=False, normalize=True)*100,1).sort_index())"
   ]
  },
  {
   "cell_type": "code",
   "execution_count": 18,
   "metadata": {},
   "outputs": [
    {
     "data": {
      "text/plain": [
       "A    1972\n",
       "B    1858\n",
       "C    1970\n",
       "D    2268\n",
       "Name: Segmentation, dtype: int64"
      ]
     },
     "metadata": {},
     "output_type": "display_data"
    },
    {
     "data": {
      "text/plain": [
       "A    24.4\n",
       "B    23.0\n",
       "C    24.4\n",
       "D    28.1\n",
       "Name: Segmentation, dtype: float64"
      ]
     },
     "metadata": {},
     "output_type": "display_data"
    }
   ],
   "source": [
    "# 11. Segmentation - Distribution of Segmentations on the dataset\n",
    "display(train['Segmentation'].value_counts(dropna=False).sort_index())\n",
    "display(round(train['Segmentation'].value_counts(dropna=False, normalize=True)*100,1).sort_index())"
   ]
  },
  {
   "attachments": {},
   "cell_type": "markdown",
   "metadata": {},
   "source": [
    "#### 4.1.2 Null values \n",
    "The percentage of missing values is not as high as we can safely remove variables"
   ]
  },
  {
   "cell_type": "code",
   "execution_count": 19,
   "metadata": {},
   "outputs": [
    {
     "data": {
      "text/html": [
       "<div>\n",
       "<style scoped>\n",
       "    .dataframe tbody tr th:only-of-type {\n",
       "        vertical-align: middle;\n",
       "    }\n",
       "\n",
       "    .dataframe tbody tr th {\n",
       "        vertical-align: top;\n",
       "    }\n",
       "\n",
       "    .dataframe thead th {\n",
       "        text-align: right;\n",
       "    }\n",
       "</style>\n",
       "<table border=\"1\" class=\"dataframe\">\n",
       "  <thead>\n",
       "    <tr style=\"text-align: right;\">\n",
       "      <th></th>\n",
       "      <th>Features</th>\n",
       "      <th>Missing values</th>\n",
       "    </tr>\n",
       "  </thead>\n",
       "  <tbody>\n",
       "    <tr>\n",
       "      <th>6</th>\n",
       "      <td>Work_Experience</td>\n",
       "      <td>10.275161</td>\n",
       "    </tr>\n",
       "    <tr>\n",
       "      <th>8</th>\n",
       "      <td>Family_Size</td>\n",
       "      <td>4.152206</td>\n",
       "    </tr>\n",
       "    <tr>\n",
       "      <th>2</th>\n",
       "      <td>Ever_Married</td>\n",
       "      <td>1.735250</td>\n",
       "    </tr>\n",
       "    <tr>\n",
       "      <th>5</th>\n",
       "      <td>Profession</td>\n",
       "      <td>1.536936</td>\n",
       "    </tr>\n",
       "    <tr>\n",
       "      <th>4</th>\n",
       "      <td>Graduated</td>\n",
       "      <td>0.966782</td>\n",
       "    </tr>\n",
       "    <tr>\n",
       "      <th>9</th>\n",
       "      <td>Var_1</td>\n",
       "      <td>0.941993</td>\n",
       "    </tr>\n",
       "  </tbody>\n",
       "</table>\n",
       "</div>"
      ],
      "text/plain": [
       "          Features  Missing values\n",
       "6  Work_Experience       10.275161\n",
       "8      Family_Size        4.152206\n",
       "2     Ever_Married        1.735250\n",
       "5       Profession        1.536936\n",
       "4        Graduated        0.966782\n",
       "9            Var_1        0.941993"
      ]
     },
     "metadata": {},
     "output_type": "display_data"
    },
    {
     "name": "stdout",
     "output_type": "stream",
     "text": [
      "\n",
      " Data Type\n"
     ]
    },
    {
     "data": {
      "text/plain": [
       "Work_Experience    float64\n",
       "Family_Size        float64\n",
       "Ever_Married        object\n",
       "Profession          object\n",
       "Graduated           object\n",
       "Var_1               object\n",
       "dtype: object"
      ]
     },
     "metadata": {},
     "output_type": "display_data"
    }
   ],
   "source": [
    "# Create in dataframe format the prc of missing values \n",
    "prc_missing_1 = train.isnull().sum()*100/len(train)\n",
    "prc_missing_1_df = pd.DataFrame(prc_missing_1, columns=['Missing values'])\n",
    "prc_missing_1_df.index.name = 'Features'\n",
    "prc_missing_1_df = prc_missing_1_df.reset_index()\n",
    "prc_missing_1_df = prc_missing_1_df.loc[prc_missing_1_df['Missing values'] != 0].sort_values('Missing values', ascending=False)\n",
    "display(prc_missing_1_df)\n",
    "\n",
    "# Check data type\n",
    "print('\\n','Data Type')\n",
    "prc_missing_1_df_col = prc_missing_1_df['Features'].to_list()\n",
    "display(train[prc_missing_1_df_col].dtypes)"
   ]
  },
  {
   "attachments": {},
   "cell_type": "markdown",
   "metadata": {},
   "source": [
    "#### 4.1.3 Data type"
   ]
  },
  {
   "cell_type": "code",
   "execution_count": 20,
   "metadata": {},
   "outputs": [
    {
     "data": {
      "text/plain": [
       "ID                   int64\n",
       "Age                  int64\n",
       "Work_Experience    float64\n",
       "Family_Size        float64\n",
       "Gender              object\n",
       "Ever_Married        object\n",
       "Graduated           object\n",
       "Profession          object\n",
       "Spending_Score      object\n",
       "Var_1               object\n",
       "Segmentation        object\n",
       "dtype: object"
      ]
     },
     "execution_count": 20,
     "metadata": {},
     "output_type": "execute_result"
    }
   ],
   "source": [
    "train.dtypes.sort_values()"
   ]
  },
  {
   "attachments": {},
   "cell_type": "markdown",
   "metadata": {},
   "source": [
    "#### 4.1.4 Outliers\n",
    "* It seems that there are some outliers in both variables. Also, the variables work experience and family size both have missing values, as well as it is shown in the box plots below there is right skewness\n",
    "* Regarding family size, outliers correspond to about 1% of total size of the dataset\n",
    "* Regarding work experience the outliers correspond to about 2,4% of total size of the dataset"
   ]
  },
  {
   "cell_type": "code",
   "execution_count": 21,
   "metadata": {},
   "outputs": [
    {
     "data": {
      "image/png": "[encoded data removed]",
      "text/plain": [
       "<Figure size 1500x500 with 1 Axes>"
      ]
     },
     "metadata": {},
     "output_type": "display_data"
    }
   ],
   "source": [
    "# 1. Working experience - outliers\n",
    "box_plot(train, 'Work_Experience')"
   ]
  },
  {
   "cell_type": "code",
   "execution_count": 29,
   "metadata": {},
   "outputs": [
    {
     "data": {
      "text/plain": [
       "11.0    50\n",
       "12.0    48\n",
       "13.0    46\n",
       "14.0    45\n",
       "Name: Work_Experience, dtype: int64"
      ]
     },
     "execution_count": 29,
     "metadata": {},
     "output_type": "execute_result"
    }
   ],
   "source": [
    "# 1.1 Working experience - number of outliers\n",
    "train.loc[train['Work_Experience'] > 10]['Work_Experience'].value_counts()"
   ]
  },
  {
   "cell_type": "code",
   "execution_count": 22,
   "metadata": {},
   "outputs": [
    {
     "data": {
      "image/png": "[encoded data removed]",
      "text/plain": [
       "<Figure size 1500x500 with 1 Axes>"
      ]
     },
     "metadata": {},
     "output_type": "display_data"
    }
   ],
   "source": [
    "# 2. Family size\n",
    "box_plot(train, 'Family_Size')"
   ]
  },
  {
   "cell_type": "code",
   "execution_count": 31,
   "metadata": {},
   "outputs": [
    {
     "data": {
      "text/plain": [
       "8.0    50\n",
       "9.0    44\n",
       "Name: Family_Size, dtype: int64"
      ]
     },
     "execution_count": 31,
     "metadata": {},
     "output_type": "execute_result"
    }
   ],
   "source": [
    "# 1.1 Family size - number of outliers\n",
    "train.loc[train['Family_Size'] > 7]['Family_Size'].value_counts()"
   ]
  },
  {
   "attachments": {},
   "cell_type": "markdown",
   "metadata": {},
   "source": [
    "### 4.2 Multivariate analysis\n",
    "#### 4.2.1 Correlation between numeric variables\n",
    "* Initially, we will check the correlation between variables\n",
    "* Generally we want to have high correlation between the targeted variable and the rest variables\n",
    "* On the other hand, we want to have low correlation among independet variables. If the correlation among them is high we can safely remove some of them\n",
    "* High correlation between independet variables leads to multi collinearity problems\n",
    "* Size of correlation\n",
    "    - 1-3 -> small correlation\n",
    "    - 3-5 -> medium correlation\n",
    "    - 5-10 -> large correlation\n",
    "\n",
    "\n",
    "Notes:\n",
    "* There is sligh negative correlation between age and work experience\n",
    "* There is a moderate negative correlation between age and family size\n",
    "* There is no any relationship between work experience and family size"
   ]
  },
  {
   "cell_type": "code",
   "execution_count": 23,
   "metadata": {},
   "outputs": [
    {
     "data": {
      "text/html": [
       "<div>\n",
       "<style scoped>\n",
       "    .dataframe tbody tr th:only-of-type {\n",
       "        vertical-align: middle;\n",
       "    }\n",
       "\n",
       "    .dataframe tbody tr th {\n",
       "        vertical-align: top;\n",
       "    }\n",
       "\n",
       "    .dataframe thead th {\n",
       "        text-align: right;\n",
       "    }\n",
       "</style>\n",
       "<table border=\"1\" class=\"dataframe\">\n",
       "  <thead>\n",
       "    <tr style=\"text-align: right;\">\n",
       "      <th></th>\n",
       "      <th>ID</th>\n",
       "      <th>Age</th>\n",
       "      <th>Work_Experience</th>\n",
       "      <th>Family_Size</th>\n",
       "    </tr>\n",
       "  </thead>\n",
       "  <tbody>\n",
       "    <tr>\n",
       "      <th>ID</th>\n",
       "      <td>1.000000</td>\n",
       "      <td>-0.005055</td>\n",
       "      <td>-0.030688</td>\n",
       "      <td>0.011801</td>\n",
       "    </tr>\n",
       "    <tr>\n",
       "      <th>Age</th>\n",
       "      <td>-0.005055</td>\n",
       "      <td>1.000000</td>\n",
       "      <td>-0.190789</td>\n",
       "      <td>-0.280517</td>\n",
       "    </tr>\n",
       "    <tr>\n",
       "      <th>Work_Experience</th>\n",
       "      <td>-0.030688</td>\n",
       "      <td>-0.190789</td>\n",
       "      <td>1.000000</td>\n",
       "      <td>-0.063234</td>\n",
       "    </tr>\n",
       "    <tr>\n",
       "      <th>Family_Size</th>\n",
       "      <td>0.011801</td>\n",
       "      <td>-0.280517</td>\n",
       "      <td>-0.063234</td>\n",
       "      <td>1.000000</td>\n",
       "    </tr>\n",
       "  </tbody>\n",
       "</table>\n",
       "</div>"
      ],
      "text/plain": [
       "                       ID       Age  Work_Experience  Family_Size\n",
       "ID               1.000000 -0.005055        -0.030688     0.011801\n",
       "Age             -0.005055  1.000000        -0.190789    -0.280517\n",
       "Work_Experience -0.030688 -0.190789         1.000000    -0.063234\n",
       "Family_Size      0.011801 -0.280517        -0.063234     1.000000"
      ]
     },
     "execution_count": 23,
     "metadata": {},
     "output_type": "execute_result"
    }
   ],
   "source": [
    "# Check correlation among variables\n",
    "corr = train.corr()\n",
    "corr"
   ]
  },
  {
   "attachments": {},
   "cell_type": "markdown",
   "metadata": {},
   "source": [
    "#### 4.2.2 Analysis of targeted variable with the in independed variables\n",
    "1. Men are approximately 10pp higher than women (55% vs 45%), it seems that men and women are spread equally on all segments\n",
    "2. The median age is 40. Segments A, B and C are close to the median age. Segment D is about 28% less than the median age\n",
    "3. For segments A, B and C the percentage of married customers is higher that the percentage of non maried customers. More specifically, for segments B and C about 3/4 are married vs non married and for segment A, more than half of customers are married too. For segment D, it seems that only 1/4 of prospect customers are married vs non married. It can be easily explained due to the fact that in that segment as we saw earlier the median age is 29 years old conpared to the other segments that the median age is above 40\n",
    "4. The same view for graduation and segment. For the segments A, B and C the percentage of graduated is much higher than non graduated and for segment D the percentage of non graduated is higher (60% vs 40%)\n",
    "5. As we saw earlier about 2/3 of prospect customers have 0 to 1 working experience. The median working experience for prospect customers in every segment is the same, 1 year\n",
    "6. In segments A, B and D the spending score is low \n",
    "7. Family size for segments A and B is 2 and for segments C and D is 3\n",
    "8. In every segment the majority of prospect customers are coming from Anonymised Category 6"
   ]
  },
  {
   "cell_type": "code",
   "execution_count": 65,
   "metadata": {},
   "outputs": [
    {
     "data": {
      "text/html": [
       "<div>\n",
       "<style scoped>\n",
       "    .dataframe tbody tr th:only-of-type {\n",
       "        vertical-align: middle;\n",
       "    }\n",
       "\n",
       "    .dataframe tbody tr th {\n",
       "        vertical-align: top;\n",
       "    }\n",
       "\n",
       "    .dataframe thead th {\n",
       "        text-align: right;\n",
       "    }\n",
       "</style>\n",
       "<table border=\"1\" class=\"dataframe\">\n",
       "  <thead>\n",
       "    <tr style=\"text-align: right;\">\n",
       "      <th></th>\n",
       "      <th></th>\n",
       "      <th>Absolute</th>\n",
       "      <th>Percentage</th>\n",
       "    </tr>\n",
       "    <tr>\n",
       "      <th>Segmentation</th>\n",
       "      <th>Gender</th>\n",
       "      <th></th>\n",
       "      <th></th>\n",
       "    </tr>\n",
       "  </thead>\n",
       "  <tbody>\n",
       "    <tr>\n",
       "      <th rowspan=\"2\" valign=\"top\">A</th>\n",
       "      <th>Male</th>\n",
       "      <td>1063</td>\n",
       "      <td>53.9</td>\n",
       "    </tr>\n",
       "    <tr>\n",
       "      <th>Female</th>\n",
       "      <td>909</td>\n",
       "      <td>46.1</td>\n",
       "    </tr>\n",
       "    <tr>\n",
       "      <th rowspan=\"2\" valign=\"top\">B</th>\n",
       "      <th>Male</th>\n",
       "      <td>997</td>\n",
       "      <td>53.7</td>\n",
       "    </tr>\n",
       "    <tr>\n",
       "      <th>Female</th>\n",
       "      <td>861</td>\n",
       "      <td>46.3</td>\n",
       "    </tr>\n",
       "    <tr>\n",
       "      <th rowspan=\"2\" valign=\"top\">C</th>\n",
       "      <th>Male</th>\n",
       "      <td>1048</td>\n",
       "      <td>53.2</td>\n",
       "    </tr>\n",
       "    <tr>\n",
       "      <th>Female</th>\n",
       "      <td>922</td>\n",
       "      <td>46.8</td>\n",
       "    </tr>\n",
       "    <tr>\n",
       "      <th rowspan=\"2\" valign=\"top\">D</th>\n",
       "      <th>Male</th>\n",
       "      <td>1309</td>\n",
       "      <td>57.7</td>\n",
       "    </tr>\n",
       "    <tr>\n",
       "      <th>Female</th>\n",
       "      <td>959</td>\n",
       "      <td>42.3</td>\n",
       "    </tr>\n",
       "  </tbody>\n",
       "</table>\n",
       "</div>"
      ],
      "text/plain": [
       "                     Absolute  Percentage\n",
       "Segmentation Gender                      \n",
       "A            Male        1063        53.9\n",
       "             Female       909        46.1\n",
       "B            Male         997        53.7\n",
       "             Female       861        46.3\n",
       "C            Male        1048        53.2\n",
       "             Female       922        46.8\n",
       "D            Male        1309        57.7\n",
       "             Female       959        42.3"
      ]
     },
     "execution_count": 65,
     "metadata": {},
     "output_type": "execute_result"
    }
   ],
   "source": [
    "# 1. Analyze targeted variable and gender\n",
    "gender_perc = train.groupby(['Segmentation'])['Gender'].value_counts(normalize=True).mul(100).round(1).to_frame().rename(columns={'Gender':'Percentage'})\n",
    "gender_abs = train.groupby(['Segmentation'])['Gender'].value_counts(normalize=False).to_frame().rename(columns={'Gender':'Absolute'})\n",
    "final_gender = pd.concat([gender_abs, gender_perc], axis=1)\n",
    "final_gender"
   ]
  },
  {
   "cell_type": "code",
   "execution_count": 68,
   "metadata": {},
   "outputs": [
    {
     "data": {
      "text/html": [
       "<div>\n",
       "<style scoped>\n",
       "    .dataframe tbody tr th:only-of-type {\n",
       "        vertical-align: middle;\n",
       "    }\n",
       "\n",
       "    .dataframe tbody tr th {\n",
       "        vertical-align: top;\n",
       "    }\n",
       "\n",
       "    .dataframe thead th {\n",
       "        text-align: right;\n",
       "    }\n",
       "</style>\n",
       "<table border=\"1\" class=\"dataframe\">\n",
       "  <thead>\n",
       "    <tr style=\"text-align: right;\">\n",
       "      <th></th>\n",
       "      <th>Segmentation</th>\n",
       "      <th>Age</th>\n",
       "    </tr>\n",
       "  </thead>\n",
       "  <tbody>\n",
       "    <tr>\n",
       "      <th>0</th>\n",
       "      <td>A</td>\n",
       "      <td>41.0</td>\n",
       "    </tr>\n",
       "    <tr>\n",
       "      <th>1</th>\n",
       "      <td>B</td>\n",
       "      <td>46.0</td>\n",
       "    </tr>\n",
       "    <tr>\n",
       "      <th>2</th>\n",
       "      <td>C</td>\n",
       "      <td>49.0</td>\n",
       "    </tr>\n",
       "    <tr>\n",
       "      <th>3</th>\n",
       "      <td>D</td>\n",
       "      <td>29.0</td>\n",
       "    </tr>\n",
       "  </tbody>\n",
       "</table>\n",
       "</div>"
      ],
      "text/plain": [
       "  Segmentation   Age\n",
       "0            A  41.0\n",
       "1            B  46.0\n",
       "2            C  49.0\n",
       "3            D  29.0"
      ]
     },
     "execution_count": 68,
     "metadata": {},
     "output_type": "execute_result"
    }
   ],
   "source": [
    "# 2. Analyze targeted variable and age\n",
    "train.groupby('Segmentation')['Age'].median().to_frame().reset_index()"
   ]
  },
  {
   "cell_type": "code",
   "execution_count": 69,
   "metadata": {},
   "outputs": [
    {
     "data": {
      "text/html": [
       "<div>\n",
       "<style scoped>\n",
       "    .dataframe tbody tr th:only-of-type {\n",
       "        vertical-align: middle;\n",
       "    }\n",
       "\n",
       "    .dataframe tbody tr th {\n",
       "        vertical-align: top;\n",
       "    }\n",
       "\n",
       "    .dataframe thead th {\n",
       "        text-align: right;\n",
       "    }\n",
       "</style>\n",
       "<table border=\"1\" class=\"dataframe\">\n",
       "  <thead>\n",
       "    <tr style=\"text-align: right;\">\n",
       "      <th></th>\n",
       "      <th></th>\n",
       "      <th>Absolute</th>\n",
       "      <th>Percentage</th>\n",
       "    </tr>\n",
       "    <tr>\n",
       "      <th>Segmentation</th>\n",
       "      <th>Ever_Married</th>\n",
       "      <th></th>\n",
       "      <th></th>\n",
       "    </tr>\n",
       "  </thead>\n",
       "  <tbody>\n",
       "    <tr>\n",
       "      <th rowspan=\"2\" valign=\"top\">A</th>\n",
       "      <th>Yes</th>\n",
       "      <td>1137</td>\n",
       "      <td>58.7</td>\n",
       "    </tr>\n",
       "    <tr>\n",
       "      <th>No</th>\n",
       "      <td>801</td>\n",
       "      <td>41.3</td>\n",
       "    </tr>\n",
       "    <tr>\n",
       "      <th rowspan=\"2\" valign=\"top\">B</th>\n",
       "      <th>Yes</th>\n",
       "      <td>1348</td>\n",
       "      <td>73.8</td>\n",
       "    </tr>\n",
       "    <tr>\n",
       "      <th>No</th>\n",
       "      <td>479</td>\n",
       "      <td>26.2</td>\n",
       "    </tr>\n",
       "    <tr>\n",
       "      <th rowspan=\"2\" valign=\"top\">C</th>\n",
       "      <th>Yes</th>\n",
       "      <td>1549</td>\n",
       "      <td>79.6</td>\n",
       "    </tr>\n",
       "    <tr>\n",
       "      <th>No</th>\n",
       "      <td>398</td>\n",
       "      <td>20.4</td>\n",
       "    </tr>\n",
       "    <tr>\n",
       "      <th rowspan=\"2\" valign=\"top\">D</th>\n",
       "      <th>No</th>\n",
       "      <td>1607</td>\n",
       "      <td>72.5</td>\n",
       "    </tr>\n",
       "    <tr>\n",
       "      <th>Yes</th>\n",
       "      <td>609</td>\n",
       "      <td>27.5</td>\n",
       "    </tr>\n",
       "  </tbody>\n",
       "</table>\n",
       "</div>"
      ],
      "text/plain": [
       "                           Absolute  Percentage\n",
       "Segmentation Ever_Married                      \n",
       "A            Yes               1137        58.7\n",
       "             No                 801        41.3\n",
       "B            Yes               1348        73.8\n",
       "             No                 479        26.2\n",
       "C            Yes               1549        79.6\n",
       "             No                 398        20.4\n",
       "D            No                1607        72.5\n",
       "             Yes                609        27.5"
      ]
     },
     "execution_count": 69,
     "metadata": {},
     "output_type": "execute_result"
    }
   ],
   "source": [
    "# 3. Analyze targeted variable and Ever_Married\n",
    "mar_perc = train.groupby(['Segmentation'])['Ever_Married'].value_counts(normalize=True).mul(100).round(1).to_frame().rename(columns={'Ever_Married':'Percentage'})\n",
    "mar_abs = train.groupby(['Segmentation'])['Ever_Married'].value_counts(normalize=False).to_frame().rename(columns={'Ever_Married':'Absolute'})\n",
    "final_mar = pd.concat([mar_abs, mar_perc], axis=1)\n",
    "final_mar"
   ]
  },
  {
   "cell_type": "code",
   "execution_count": 70,
   "metadata": {},
   "outputs": [
    {
     "data": {
      "text/html": [
       "<div>\n",
       "<style scoped>\n",
       "    .dataframe tbody tr th:only-of-type {\n",
       "        vertical-align: middle;\n",
       "    }\n",
       "\n",
       "    .dataframe tbody tr th {\n",
       "        vertical-align: top;\n",
       "    }\n",
       "\n",
       "    .dataframe thead th {\n",
       "        text-align: right;\n",
       "    }\n",
       "</style>\n",
       "<table border=\"1\" class=\"dataframe\">\n",
       "  <thead>\n",
       "    <tr style=\"text-align: right;\">\n",
       "      <th></th>\n",
       "      <th></th>\n",
       "      <th>Absolute</th>\n",
       "      <th>Percentage</th>\n",
       "    </tr>\n",
       "    <tr>\n",
       "      <th>Segmentation</th>\n",
       "      <th>Graduated</th>\n",
       "      <th></th>\n",
       "      <th></th>\n",
       "    </tr>\n",
       "  </thead>\n",
       "  <tbody>\n",
       "    <tr>\n",
       "      <th rowspan=\"2\" valign=\"top\">A</th>\n",
       "      <th>Yes</th>\n",
       "      <td>1219</td>\n",
       "      <td>62.6</td>\n",
       "    </tr>\n",
       "    <tr>\n",
       "      <th>No</th>\n",
       "      <td>729</td>\n",
       "      <td>37.4</td>\n",
       "    </tr>\n",
       "    <tr>\n",
       "      <th rowspan=\"2\" valign=\"top\">B</th>\n",
       "      <th>Yes</th>\n",
       "      <td>1332</td>\n",
       "      <td>72.4</td>\n",
       "    </tr>\n",
       "    <tr>\n",
       "      <th>No</th>\n",
       "      <td>508</td>\n",
       "      <td>27.6</td>\n",
       "    </tr>\n",
       "    <tr>\n",
       "      <th rowspan=\"2\" valign=\"top\">C</th>\n",
       "      <th>Yes</th>\n",
       "      <td>1607</td>\n",
       "      <td>82.2</td>\n",
       "    </tr>\n",
       "    <tr>\n",
       "      <th>No</th>\n",
       "      <td>348</td>\n",
       "      <td>17.8</td>\n",
       "    </tr>\n",
       "    <tr>\n",
       "      <th rowspan=\"2\" valign=\"top\">D</th>\n",
       "      <th>No</th>\n",
       "      <td>1437</td>\n",
       "      <td>64.0</td>\n",
       "    </tr>\n",
       "    <tr>\n",
       "      <th>Yes</th>\n",
       "      <td>810</td>\n",
       "      <td>36.0</td>\n",
       "    </tr>\n",
       "  </tbody>\n",
       "</table>\n",
       "</div>"
      ],
      "text/plain": [
       "                        Absolute  Percentage\n",
       "Segmentation Graduated                      \n",
       "A            Yes            1219        62.6\n",
       "             No              729        37.4\n",
       "B            Yes            1332        72.4\n",
       "             No              508        27.6\n",
       "C            Yes            1607        82.2\n",
       "             No              348        17.8\n",
       "D            No             1437        64.0\n",
       "             Yes             810        36.0"
      ]
     },
     "execution_count": 70,
     "metadata": {},
     "output_type": "execute_result"
    }
   ],
   "source": [
    "# 4. Analyze targeted variable and Graduated\n",
    "grad_perc = train.groupby(['Segmentation'])['Graduated'].value_counts(normalize=True).mul(100).round(1).to_frame().rename(columns={'Graduated':'Percentage'})\n",
    "grad_abs = train.groupby(['Segmentation'])['Graduated'].value_counts(normalize=False).to_frame().rename(columns={'Graduated':'Absolute'})\n",
    "final_grad = pd.concat([grad_abs, grad_perc], axis=1)\n",
    "final_grad"
   ]
  },
  {
   "cell_type": "code",
   "execution_count": 71,
   "metadata": {},
   "outputs": [
    {
     "data": {
      "text/html": [
       "<div>\n",
       "<style scoped>\n",
       "    .dataframe tbody tr th:only-of-type {\n",
       "        vertical-align: middle;\n",
       "    }\n",
       "\n",
       "    .dataframe tbody tr th {\n",
       "        vertical-align: top;\n",
       "    }\n",
       "\n",
       "    .dataframe thead th {\n",
       "        text-align: right;\n",
       "    }\n",
       "</style>\n",
       "<table border=\"1\" class=\"dataframe\">\n",
       "  <thead>\n",
       "    <tr style=\"text-align: right;\">\n",
       "      <th></th>\n",
       "      <th>Segmentation</th>\n",
       "      <th>Work_Experience</th>\n",
       "    </tr>\n",
       "  </thead>\n",
       "  <tbody>\n",
       "    <tr>\n",
       "      <th>0</th>\n",
       "      <td>A</td>\n",
       "      <td>1.0</td>\n",
       "    </tr>\n",
       "    <tr>\n",
       "      <th>1</th>\n",
       "      <td>B</td>\n",
       "      <td>1.0</td>\n",
       "    </tr>\n",
       "    <tr>\n",
       "      <th>2</th>\n",
       "      <td>C</td>\n",
       "      <td>1.0</td>\n",
       "    </tr>\n",
       "    <tr>\n",
       "      <th>3</th>\n",
       "      <td>D</td>\n",
       "      <td>1.0</td>\n",
       "    </tr>\n",
       "  </tbody>\n",
       "</table>\n",
       "</div>"
      ],
      "text/plain": [
       "  Segmentation  Work_Experience\n",
       "0            A              1.0\n",
       "1            B              1.0\n",
       "2            C              1.0\n",
       "3            D              1.0"
      ]
     },
     "execution_count": 71,
     "metadata": {},
     "output_type": "execute_result"
    }
   ],
   "source": [
    "# 5. Analyze targeted variable and work experience\n",
    "train.groupby('Segmentation')['Work_Experience'].median().to_frame().reset_index()"
   ]
  },
  {
   "cell_type": "code",
   "execution_count": 72,
   "metadata": {},
   "outputs": [
    {
     "data": {
      "text/html": [
       "<div>\n",
       "<style scoped>\n",
       "    .dataframe tbody tr th:only-of-type {\n",
       "        vertical-align: middle;\n",
       "    }\n",
       "\n",
       "    .dataframe tbody tr th {\n",
       "        vertical-align: top;\n",
       "    }\n",
       "\n",
       "    .dataframe thead th {\n",
       "        text-align: right;\n",
       "    }\n",
       "</style>\n",
       "<table border=\"1\" class=\"dataframe\">\n",
       "  <thead>\n",
       "    <tr style=\"text-align: right;\">\n",
       "      <th></th>\n",
       "      <th></th>\n",
       "      <th>Absolute</th>\n",
       "      <th>Percentage</th>\n",
       "    </tr>\n",
       "    <tr>\n",
       "      <th>Segmentation</th>\n",
       "      <th>Spending_Score</th>\n",
       "      <th></th>\n",
       "      <th></th>\n",
       "    </tr>\n",
       "  </thead>\n",
       "  <tbody>\n",
       "    <tr>\n",
       "      <th rowspan=\"3\" valign=\"top\">A</th>\n",
       "      <th>Low</th>\n",
       "      <td>1358</td>\n",
       "      <td>68.9</td>\n",
       "    </tr>\n",
       "    <tr>\n",
       "      <th>Average</th>\n",
       "      <td>343</td>\n",
       "      <td>17.4</td>\n",
       "    </tr>\n",
       "    <tr>\n",
       "      <th>High</th>\n",
       "      <td>271</td>\n",
       "      <td>13.7</td>\n",
       "    </tr>\n",
       "    <tr>\n",
       "      <th rowspan=\"3\" valign=\"top\">B</th>\n",
       "      <th>Low</th>\n",
       "      <td>884</td>\n",
       "      <td>47.6</td>\n",
       "    </tr>\n",
       "    <tr>\n",
       "      <th>Average</th>\n",
       "      <td>590</td>\n",
       "      <td>31.8</td>\n",
       "    </tr>\n",
       "    <tr>\n",
       "      <th>High</th>\n",
       "      <td>384</td>\n",
       "      <td>20.7</td>\n",
       "    </tr>\n",
       "    <tr>\n",
       "      <th rowspan=\"3\" valign=\"top\">C</th>\n",
       "      <th>Average</th>\n",
       "      <td>903</td>\n",
       "      <td>45.8</td>\n",
       "    </tr>\n",
       "    <tr>\n",
       "      <th>Low</th>\n",
       "      <td>662</td>\n",
       "      <td>33.6</td>\n",
       "    </tr>\n",
       "    <tr>\n",
       "      <th>High</th>\n",
       "      <td>405</td>\n",
       "      <td>20.6</td>\n",
       "    </tr>\n",
       "    <tr>\n",
       "      <th rowspan=\"3\" valign=\"top\">D</th>\n",
       "      <th>Low</th>\n",
       "      <td>1974</td>\n",
       "      <td>87.0</td>\n",
       "    </tr>\n",
       "    <tr>\n",
       "      <th>High</th>\n",
       "      <td>156</td>\n",
       "      <td>6.9</td>\n",
       "    </tr>\n",
       "    <tr>\n",
       "      <th>Average</th>\n",
       "      <td>138</td>\n",
       "      <td>6.1</td>\n",
       "    </tr>\n",
       "  </tbody>\n",
       "</table>\n",
       "</div>"
      ],
      "text/plain": [
       "                             Absolute  Percentage\n",
       "Segmentation Spending_Score                      \n",
       "A            Low                 1358        68.9\n",
       "             Average              343        17.4\n",
       "             High                 271        13.7\n",
       "B            Low                  884        47.6\n",
       "             Average              590        31.8\n",
       "             High                 384        20.7\n",
       "C            Average              903        45.8\n",
       "             Low                  662        33.6\n",
       "             High                 405        20.6\n",
       "D            Low                 1974        87.0\n",
       "             High                 156         6.9\n",
       "             Average              138         6.1"
      ]
     },
     "execution_count": 72,
     "metadata": {},
     "output_type": "execute_result"
    }
   ],
   "source": [
    "# 6. Analyze targeted variable and Spending_Score\n",
    "score_perc = train.groupby(['Segmentation'])['Spending_Score'].value_counts(normalize=True).mul(100).round(1).to_frame().rename(columns={'Spending_Score':'Percentage'})\n",
    "score_abs = train.groupby(['Segmentation'])['Spending_Score'].value_counts(normalize=False).to_frame().rename(columns={'Spending_Score':'Absolute'})\n",
    "final_score = pd.concat([score_abs, score_perc], axis=1)\n",
    "final_score"
   ]
  },
  {
   "cell_type": "code",
   "execution_count": 74,
   "metadata": {},
   "outputs": [
    {
     "data": {
      "text/html": [
       "<div>\n",
       "<style scoped>\n",
       "    .dataframe tbody tr th:only-of-type {\n",
       "        vertical-align: middle;\n",
       "    }\n",
       "\n",
       "    .dataframe tbody tr th {\n",
       "        vertical-align: top;\n",
       "    }\n",
       "\n",
       "    .dataframe thead th {\n",
       "        text-align: right;\n",
       "    }\n",
       "</style>\n",
       "<table border=\"1\" class=\"dataframe\">\n",
       "  <thead>\n",
       "    <tr style=\"text-align: right;\">\n",
       "      <th></th>\n",
       "      <th>Segmentation</th>\n",
       "      <th>Family_Size</th>\n",
       "    </tr>\n",
       "  </thead>\n",
       "  <tbody>\n",
       "    <tr>\n",
       "      <th>0</th>\n",
       "      <td>A</td>\n",
       "      <td>2.0</td>\n",
       "    </tr>\n",
       "    <tr>\n",
       "      <th>1</th>\n",
       "      <td>B</td>\n",
       "      <td>2.0</td>\n",
       "    </tr>\n",
       "    <tr>\n",
       "      <th>2</th>\n",
       "      <td>C</td>\n",
       "      <td>3.0</td>\n",
       "    </tr>\n",
       "    <tr>\n",
       "      <th>3</th>\n",
       "      <td>D</td>\n",
       "      <td>3.0</td>\n",
       "    </tr>\n",
       "  </tbody>\n",
       "</table>\n",
       "</div>"
      ],
      "text/plain": [
       "  Segmentation  Family_Size\n",
       "0            A          2.0\n",
       "1            B          2.0\n",
       "2            C          3.0\n",
       "3            D          3.0"
      ]
     },
     "execution_count": 74,
     "metadata": {},
     "output_type": "execute_result"
    }
   ],
   "source": [
    "# 7. Analyze targeted variable and Family size\n",
    "train.groupby('Segmentation')['Family_Size'].median().to_frame().reset_index()"
   ]
  },
  {
   "cell_type": "code",
   "execution_count": 24,
   "metadata": {},
   "outputs": [
    {
     "data": {
      "text/html": [
       "<div>\n",
       "<style scoped>\n",
       "    .dataframe tbody tr th:only-of-type {\n",
       "        vertical-align: middle;\n",
       "    }\n",
       "\n",
       "    .dataframe tbody tr th {\n",
       "        vertical-align: top;\n",
       "    }\n",
       "\n",
       "    .dataframe thead th {\n",
       "        text-align: right;\n",
       "    }\n",
       "</style>\n",
       "<table border=\"1\" class=\"dataframe\">\n",
       "  <thead>\n",
       "    <tr style=\"text-align: right;\">\n",
       "      <th></th>\n",
       "      <th>ID</th>\n",
       "      <th>Gender</th>\n",
       "      <th>Ever_Married</th>\n",
       "      <th>Age</th>\n",
       "      <th>Graduated</th>\n",
       "      <th>Profession</th>\n",
       "      <th>Work_Experience</th>\n",
       "      <th>Spending_Score</th>\n",
       "      <th>Family_Size</th>\n",
       "      <th>Var_1</th>\n",
       "      <th>Segmentation</th>\n",
       "    </tr>\n",
       "  </thead>\n",
       "  <tbody>\n",
       "    <tr>\n",
       "      <th>0</th>\n",
       "      <td>462809</td>\n",
       "      <td>Male</td>\n",
       "      <td>No</td>\n",
       "      <td>22</td>\n",
       "      <td>No</td>\n",
       "      <td>Healthcare</td>\n",
       "      <td>1.0</td>\n",
       "      <td>Low</td>\n",
       "      <td>4.0</td>\n",
       "      <td>Cat_4</td>\n",
       "      <td>D</td>\n",
       "    </tr>\n",
       "  </tbody>\n",
       "</table>\n",
       "</div>"
      ],
      "text/plain": [
       "       ID Gender Ever_Married  Age Graduated  Profession  Work_Experience  \\\n",
       "0  462809   Male           No   22        No  Healthcare              1.0   \n",
       "\n",
       "  Spending_Score  Family_Size  Var_1 Segmentation  \n",
       "0            Low          4.0  Cat_4            D  "
      ]
     },
     "execution_count": 24,
     "metadata": {},
     "output_type": "execute_result"
    }
   ],
   "source": [
    "train.head(1)"
   ]
  },
  {
   "cell_type": "code",
   "execution_count": 75,
   "metadata": {},
   "outputs": [
    {
     "data": {
      "text/html": [
       "<div>\n",
       "<style scoped>\n",
       "    .dataframe tbody tr th:only-of-type {\n",
       "        vertical-align: middle;\n",
       "    }\n",
       "\n",
       "    .dataframe tbody tr th {\n",
       "        vertical-align: top;\n",
       "    }\n",
       "\n",
       "    .dataframe thead th {\n",
       "        text-align: right;\n",
       "    }\n",
       "</style>\n",
       "<table border=\"1\" class=\"dataframe\">\n",
       "  <thead>\n",
       "    <tr style=\"text-align: right;\">\n",
       "      <th></th>\n",
       "      <th></th>\n",
       "      <th>Absolute</th>\n",
       "      <th>Percentage</th>\n",
       "    </tr>\n",
       "    <tr>\n",
       "      <th>Segmentation</th>\n",
       "      <th>Var_1</th>\n",
       "      <th></th>\n",
       "      <th></th>\n",
       "    </tr>\n",
       "  </thead>\n",
       "  <tbody>\n",
       "    <tr>\n",
       "      <th rowspan=\"7\" valign=\"top\">A</th>\n",
       "      <th>Cat_6</th>\n",
       "      <td>1213</td>\n",
       "      <td>62.1</td>\n",
       "    </tr>\n",
       "    <tr>\n",
       "      <th>Cat_4</th>\n",
       "      <td>333</td>\n",
       "      <td>17.1</td>\n",
       "    </tr>\n",
       "    <tr>\n",
       "      <th>Cat_3</th>\n",
       "      <td>223</td>\n",
       "      <td>11.4</td>\n",
       "    </tr>\n",
       "    <tr>\n",
       "      <th>Cat_2</th>\n",
       "      <td>83</td>\n",
       "      <td>4.2</td>\n",
       "    </tr>\n",
       "    <tr>\n",
       "      <th>Cat_7</th>\n",
       "      <td>51</td>\n",
       "      <td>2.6</td>\n",
       "    </tr>\n",
       "    <tr>\n",
       "      <th>Cat_1</th>\n",
       "      <td>31</td>\n",
       "      <td>1.6</td>\n",
       "    </tr>\n",
       "    <tr>\n",
       "      <th>Cat_5</th>\n",
       "      <td>19</td>\n",
       "      <td>1.0</td>\n",
       "    </tr>\n",
       "    <tr>\n",
       "      <th rowspan=\"7\" valign=\"top\">B</th>\n",
       "      <th>Cat_6</th>\n",
       "      <td>1232</td>\n",
       "      <td>66.8</td>\n",
       "    </tr>\n",
       "    <tr>\n",
       "      <th>Cat_4</th>\n",
       "      <td>232</td>\n",
       "      <td>12.6</td>\n",
       "    </tr>\n",
       "    <tr>\n",
       "      <th>Cat_3</th>\n",
       "      <td>186</td>\n",
       "      <td>10.1</td>\n",
       "    </tr>\n",
       "    <tr>\n",
       "      <th>Cat_2</th>\n",
       "      <td>106</td>\n",
       "      <td>5.7</td>\n",
       "    </tr>\n",
       "    <tr>\n",
       "      <th>Cat_7</th>\n",
       "      <td>43</td>\n",
       "      <td>2.3</td>\n",
       "    </tr>\n",
       "    <tr>\n",
       "      <th>Cat_1</th>\n",
       "      <td>26</td>\n",
       "      <td>1.4</td>\n",
       "    </tr>\n",
       "    <tr>\n",
       "      <th>Cat_5</th>\n",
       "      <td>20</td>\n",
       "      <td>1.1</td>\n",
       "    </tr>\n",
       "    <tr>\n",
       "      <th rowspan=\"7\" valign=\"top\">C</th>\n",
       "      <th>Cat_6</th>\n",
       "      <td>1496</td>\n",
       "      <td>76.8</td>\n",
       "    </tr>\n",
       "    <tr>\n",
       "      <th>Cat_3</th>\n",
       "      <td>154</td>\n",
       "      <td>7.9</td>\n",
       "    </tr>\n",
       "    <tr>\n",
       "      <th>Cat_4</th>\n",
       "      <td>109</td>\n",
       "      <td>5.6</td>\n",
       "    </tr>\n",
       "    <tr>\n",
       "      <th>Cat_2</th>\n",
       "      <td>99</td>\n",
       "      <td>5.1</td>\n",
       "    </tr>\n",
       "    <tr>\n",
       "      <th>Cat_7</th>\n",
       "      <td>47</td>\n",
       "      <td>2.4</td>\n",
       "    </tr>\n",
       "    <tr>\n",
       "      <th>Cat_1</th>\n",
       "      <td>26</td>\n",
       "      <td>1.3</td>\n",
       "    </tr>\n",
       "    <tr>\n",
       "      <th>Cat_5</th>\n",
       "      <td>18</td>\n",
       "      <td>0.9</td>\n",
       "    </tr>\n",
       "    <tr>\n",
       "      <th rowspan=\"7\" valign=\"top\">D</th>\n",
       "      <th>Cat_6</th>\n",
       "      <td>1297</td>\n",
       "      <td>57.8</td>\n",
       "    </tr>\n",
       "    <tr>\n",
       "      <th>Cat_4</th>\n",
       "      <td>415</td>\n",
       "      <td>18.5</td>\n",
       "    </tr>\n",
       "    <tr>\n",
       "      <th>Cat_3</th>\n",
       "      <td>259</td>\n",
       "      <td>11.5</td>\n",
       "    </tr>\n",
       "    <tr>\n",
       "      <th>Cat_2</th>\n",
       "      <td>134</td>\n",
       "      <td>6.0</td>\n",
       "    </tr>\n",
       "    <tr>\n",
       "      <th>Cat_7</th>\n",
       "      <td>62</td>\n",
       "      <td>2.8</td>\n",
       "    </tr>\n",
       "    <tr>\n",
       "      <th>Cat_1</th>\n",
       "      <td>50</td>\n",
       "      <td>2.2</td>\n",
       "    </tr>\n",
       "    <tr>\n",
       "      <th>Cat_5</th>\n",
       "      <td>28</td>\n",
       "      <td>1.2</td>\n",
       "    </tr>\n",
       "  </tbody>\n",
       "</table>\n",
       "</div>"
      ],
      "text/plain": [
       "                    Absolute  Percentage\n",
       "Segmentation Var_1                      \n",
       "A            Cat_6      1213        62.1\n",
       "             Cat_4       333        17.1\n",
       "             Cat_3       223        11.4\n",
       "             Cat_2        83         4.2\n",
       "             Cat_7        51         2.6\n",
       "             Cat_1        31         1.6\n",
       "             Cat_5        19         1.0\n",
       "B            Cat_6      1232        66.8\n",
       "             Cat_4       232        12.6\n",
       "             Cat_3       186        10.1\n",
       "             Cat_2       106         5.7\n",
       "             Cat_7        43         2.3\n",
       "             Cat_1        26         1.4\n",
       "             Cat_5        20         1.1\n",
       "C            Cat_6      1496        76.8\n",
       "             Cat_3       154         7.9\n",
       "             Cat_4       109         5.6\n",
       "             Cat_2        99         5.1\n",
       "             Cat_7        47         2.4\n",
       "             Cat_1        26         1.3\n",
       "             Cat_5        18         0.9\n",
       "D            Cat_6      1297        57.8\n",
       "             Cat_4       415        18.5\n",
       "             Cat_3       259        11.5\n",
       "             Cat_2       134         6.0\n",
       "             Cat_7        62         2.8\n",
       "             Cat_1        50         2.2\n",
       "             Cat_5        28         1.2"
      ]
     },
     "execution_count": 75,
     "metadata": {},
     "output_type": "execute_result"
    }
   ],
   "source": [
    "# 8. Analyze targeted variable and Var_1\n",
    "var_perc = train.groupby(['Segmentation'])['Var_1'].value_counts(normalize=True).mul(100).round(1).to_frame().rename(columns={'Var_1':'Percentage'})\n",
    "var_abs = train.groupby(['Segmentation'])['Var_1'].value_counts(normalize=False).to_frame().rename(columns={'Var_1':'Absolute'})\n",
    "final_var = pd.concat([var_abs, var_perc], axis=1)\n",
    "final_var"
   ]
  },
  {
   "attachments": {},
   "cell_type": "markdown",
   "metadata": {},
   "source": [
    "#### 4.2.3 Correlation of categorical variables"
   ]
  },
  {
   "cell_type": "code",
   "execution_count": 113,
   "metadata": {},
   "outputs": [
    {
     "data": {
      "text/html": [
       "<div>\n",
       "<style scoped>\n",
       "    .dataframe tbody tr th:only-of-type {\n",
       "        vertical-align: middle;\n",
       "    }\n",
       "\n",
       "    .dataframe tbody tr th {\n",
       "        vertical-align: top;\n",
       "    }\n",
       "\n",
       "    .dataframe thead th {\n",
       "        text-align: right;\n",
       "    }\n",
       "</style>\n",
       "<table border=\"1\" class=\"dataframe\">\n",
       "  <thead>\n",
       "    <tr style=\"text-align: right;\">\n",
       "      <th></th>\n",
       "      <th>Gender</th>\n",
       "      <th>Ever_Married</th>\n",
       "      <th>Graduated</th>\n",
       "      <th>Profession</th>\n",
       "      <th>Spending_Score</th>\n",
       "      <th>Var_1</th>\n",
       "      <th>Segmentation</th>\n",
       "    </tr>\n",
       "  </thead>\n",
       "  <tbody>\n",
       "    <tr>\n",
       "      <th>0</th>\n",
       "      <td>Male</td>\n",
       "      <td>No</td>\n",
       "      <td>No</td>\n",
       "      <td>Healthcare</td>\n",
       "      <td>Low</td>\n",
       "      <td>Cat_4</td>\n",
       "      <td>D</td>\n",
       "    </tr>\n",
       "    <tr>\n",
       "      <th>1</th>\n",
       "      <td>Female</td>\n",
       "      <td>Yes</td>\n",
       "      <td>Yes</td>\n",
       "      <td>Engineer</td>\n",
       "      <td>Average</td>\n",
       "      <td>Cat_4</td>\n",
       "      <td>A</td>\n",
       "    </tr>\n",
       "    <tr>\n",
       "      <th>2</th>\n",
       "      <td>Female</td>\n",
       "      <td>Yes</td>\n",
       "      <td>Yes</td>\n",
       "      <td>Engineer</td>\n",
       "      <td>Low</td>\n",
       "      <td>Cat_6</td>\n",
       "      <td>B</td>\n",
       "    </tr>\n",
       "    <tr>\n",
       "      <th>3</th>\n",
       "      <td>Male</td>\n",
       "      <td>Yes</td>\n",
       "      <td>Yes</td>\n",
       "      <td>Lawyer</td>\n",
       "      <td>High</td>\n",
       "      <td>Cat_6</td>\n",
       "      <td>B</td>\n",
       "    </tr>\n",
       "    <tr>\n",
       "      <th>4</th>\n",
       "      <td>Female</td>\n",
       "      <td>Yes</td>\n",
       "      <td>Yes</td>\n",
       "      <td>Entertainment</td>\n",
       "      <td>High</td>\n",
       "      <td>Cat_6</td>\n",
       "      <td>A</td>\n",
       "    </tr>\n",
       "    <tr>\n",
       "      <th>...</th>\n",
       "      <td>...</td>\n",
       "      <td>...</td>\n",
       "      <td>...</td>\n",
       "      <td>...</td>\n",
       "      <td>...</td>\n",
       "      <td>...</td>\n",
       "      <td>...</td>\n",
       "    </tr>\n",
       "    <tr>\n",
       "      <th>8063</th>\n",
       "      <td>Male</td>\n",
       "      <td>No</td>\n",
       "      <td>No</td>\n",
       "      <td>NaN</td>\n",
       "      <td>Low</td>\n",
       "      <td>Cat_1</td>\n",
       "      <td>D</td>\n",
       "    </tr>\n",
       "    <tr>\n",
       "      <th>8064</th>\n",
       "      <td>Male</td>\n",
       "      <td>No</td>\n",
       "      <td>No</td>\n",
       "      <td>Executive</td>\n",
       "      <td>Low</td>\n",
       "      <td>Cat_4</td>\n",
       "      <td>D</td>\n",
       "    </tr>\n",
       "    <tr>\n",
       "      <th>8065</th>\n",
       "      <td>Female</td>\n",
       "      <td>No</td>\n",
       "      <td>Yes</td>\n",
       "      <td>Healthcare</td>\n",
       "      <td>Low</td>\n",
       "      <td>Cat_6</td>\n",
       "      <td>D</td>\n",
       "    </tr>\n",
       "    <tr>\n",
       "      <th>8066</th>\n",
       "      <td>Female</td>\n",
       "      <td>No</td>\n",
       "      <td>Yes</td>\n",
       "      <td>Healthcare</td>\n",
       "      <td>Low</td>\n",
       "      <td>Cat_6</td>\n",
       "      <td>B</td>\n",
       "    </tr>\n",
       "    <tr>\n",
       "      <th>8067</th>\n",
       "      <td>Male</td>\n",
       "      <td>Yes</td>\n",
       "      <td>Yes</td>\n",
       "      <td>Executive</td>\n",
       "      <td>Average</td>\n",
       "      <td>Cat_4</td>\n",
       "      <td>B</td>\n",
       "    </tr>\n",
       "  </tbody>\n",
       "</table>\n",
       "<p>8068 rows × 7 columns</p>\n",
       "</div>"
      ],
      "text/plain": [
       "      Gender Ever_Married Graduated     Profession Spending_Score  Var_1  \\\n",
       "0       Male           No        No     Healthcare            Low  Cat_4   \n",
       "1     Female          Yes       Yes       Engineer        Average  Cat_4   \n",
       "2     Female          Yes       Yes       Engineer            Low  Cat_6   \n",
       "3       Male          Yes       Yes         Lawyer           High  Cat_6   \n",
       "4     Female          Yes       Yes  Entertainment           High  Cat_6   \n",
       "...      ...          ...       ...            ...            ...    ...   \n",
       "8063    Male           No        No            NaN            Low  Cat_1   \n",
       "8064    Male           No        No      Executive            Low  Cat_4   \n",
       "8065  Female           No       Yes     Healthcare            Low  Cat_6   \n",
       "8066  Female           No       Yes     Healthcare            Low  Cat_6   \n",
       "8067    Male          Yes       Yes      Executive        Average  Cat_4   \n",
       "\n",
       "     Segmentation  \n",
       "0               D  \n",
       "1               A  \n",
       "2               B  \n",
       "3               B  \n",
       "4               A  \n",
       "...           ...  \n",
       "8063            D  \n",
       "8064            D  \n",
       "8065            D  \n",
       "8066            B  \n",
       "8067            B  \n",
       "\n",
       "[8068 rows x 7 columns]"
      ]
     },
     "execution_count": 113,
     "metadata": {},
     "output_type": "execute_result"
    }
   ],
   "source": [
    "# Subset of dataset with only categorical varbales\n",
    "cat_df = train[['Gender','Ever_Married','Graduated','Profession','Spending_Score','Var_1','Segmentation']]\n",
    "cat_df"
   ]
  },
  {
   "cell_type": "code",
   "execution_count": 114,
   "metadata": {},
   "outputs": [
    {
     "name": "stdout",
     "output_type": "stream",
     "text": [
      "49\n"
     ]
    },
    {
     "data": {
      "text/plain": [
       "[('Gender', 'Gender'),\n",
       " ('Gender', 'Ever_Married'),\n",
       " ('Gender', 'Graduated'),\n",
       " ('Gender', 'Profession'),\n",
       " ('Gender', 'Spending_Score'),\n",
       " ('Gender', 'Var_1'),\n",
       " ('Gender', 'Segmentation'),\n",
       " ('Ever_Married', 'Gender'),\n",
       " ('Ever_Married', 'Ever_Married'),\n",
       " ('Ever_Married', 'Graduated'),\n",
       " ('Ever_Married', 'Profession'),\n",
       " ('Ever_Married', 'Spending_Score'),\n",
       " ('Ever_Married', 'Var_1'),\n",
       " ('Ever_Married', 'Segmentation'),\n",
       " ('Graduated', 'Gender'),\n",
       " ('Graduated', 'Ever_Married'),\n",
       " ('Graduated', 'Graduated'),\n",
       " ('Graduated', 'Profession'),\n",
       " ('Graduated', 'Spending_Score'),\n",
       " ('Graduated', 'Var_1'),\n",
       " ('Graduated', 'Segmentation'),\n",
       " ('Profession', 'Gender'),\n",
       " ('Profession', 'Ever_Married'),\n",
       " ('Profession', 'Graduated'),\n",
       " ('Profession', 'Profession'),\n",
       " ('Profession', 'Spending_Score'),\n",
       " ('Profession', 'Var_1'),\n",
       " ('Profession', 'Segmentation'),\n",
       " ('Spending_Score', 'Gender'),\n",
       " ('Spending_Score', 'Ever_Married'),\n",
       " ('Spending_Score', 'Graduated'),\n",
       " ('Spending_Score', 'Profession'),\n",
       " ('Spending_Score', 'Spending_Score'),\n",
       " ('Spending_Score', 'Var_1'),\n",
       " ('Spending_Score', 'Segmentation'),\n",
       " ('Var_1', 'Gender'),\n",
       " ('Var_1', 'Ever_Married'),\n",
       " ('Var_1', 'Graduated'),\n",
       " ('Var_1', 'Profession'),\n",
       " ('Var_1', 'Spending_Score'),\n",
       " ('Var_1', 'Var_1'),\n",
       " ('Var_1', 'Segmentation'),\n",
       " ('Segmentation', 'Gender'),\n",
       " ('Segmentation', 'Ever_Married'),\n",
       " ('Segmentation', 'Graduated'),\n",
       " ('Segmentation', 'Profession'),\n",
       " ('Segmentation', 'Spending_Score'),\n",
       " ('Segmentation', 'Var_1'),\n",
       " ('Segmentation', 'Segmentation')]"
      ]
     },
     "execution_count": 114,
     "metadata": {},
     "output_type": "execute_result"
    }
   ],
   "source": [
    "# Split the dataset into two parts\n",
    "cat_var_1 = ['Gender','Ever_Married','Graduated','Profession','Spending_Score','Var_1','Segmentation']\n",
    "\n",
    "cat_var_2 = ['Gender','Ever_Married','Graduated','Profession','Spending_Score','Var_1','Segmentation']\n",
    "\n",
    "# Create all possible combinations\n",
    "cat_var_comb = list(itertools.product(cat_var_1, cat_var_2, repeat=1))\n",
    "\n",
    "print(len(cat_var_comb))\n",
    "cat_var_comb"
   ]
  },
  {
   "cell_type": "code",
   "execution_count": 115,
   "metadata": {},
   "outputs": [],
   "source": [
    "# Create an empty variable and picking only the p value from the output of chi-square\n",
    "result = []\n",
    "\n",
    "for i in cat_var_comb:\n",
    "    if(i[0] != i[1]):\n",
    "        result.append((i[0], i[1], list(ss.chi2_contingency(pd.crosstab(\n",
    "            cat_df[i[0]], cat_df[i[1]]\n",
    "            )))[1]))\n",
    "\n",
    "result\n",
    "# Create a table with the result\n",
    "chi_2_test = pd.DataFrame(result, columns=['Var1','Var2','Coeff'])\n",
    "\n",
    "# Create an extra colun to identify if there is relationship between pairs of variables\n",
    "chi_2_test['Relationship'] = np.where(chi_2_test['Coeff']<=0.05, 1,0)\n",
    "\n",
    "# Reshape the dataset\n",
    "chi_2_test_pvt = chi_2_test.pivot(index='Var1', columns='Var2', values='Coeff')"
   ]
  },
  {
   "cell_type": "code",
   "execution_count": 117,
   "metadata": {},
   "outputs": [
    {
     "data": {
      "text/html": [
       "<div>\n",
       "<style scoped>\n",
       "    .dataframe tbody tr th:only-of-type {\n",
       "        vertical-align: middle;\n",
       "    }\n",
       "\n",
       "    .dataframe tbody tr th {\n",
       "        vertical-align: top;\n",
       "    }\n",
       "\n",
       "    .dataframe thead th {\n",
       "        text-align: right;\n",
       "    }\n",
       "</style>\n",
       "<table border=\"1\" class=\"dataframe\">\n",
       "  <thead>\n",
       "    <tr style=\"text-align: right;\">\n",
       "      <th></th>\n",
       "      <th>Var1</th>\n",
       "      <th>Var2</th>\n",
       "      <th>Coeff</th>\n",
       "      <th>Relationship</th>\n",
       "    </tr>\n",
       "  </thead>\n",
       "  <tbody>\n",
       "    <tr>\n",
       "      <th>0</th>\n",
       "      <td>Gender</td>\n",
       "      <td>Ever_Married</td>\n",
       "      <td>5.860621e-25</td>\n",
       "      <td>1</td>\n",
       "    </tr>\n",
       "    <tr>\n",
       "      <th>1</th>\n",
       "      <td>Gender</td>\n",
       "      <td>Graduated</td>\n",
       "      <td>2.480211e-03</td>\n",
       "      <td>1</td>\n",
       "    </tr>\n",
       "    <tr>\n",
       "      <th>2</th>\n",
       "      <td>Gender</td>\n",
       "      <td>Profession</td>\n",
       "      <td>6.928513e-217</td>\n",
       "      <td>1</td>\n",
       "    </tr>\n",
       "    <tr>\n",
       "      <th>3</th>\n",
       "      <td>Gender</td>\n",
       "      <td>Spending_Score</td>\n",
       "      <td>9.102926e-08</td>\n",
       "      <td>1</td>\n",
       "    </tr>\n",
       "    <tr>\n",
       "      <th>4</th>\n",
       "      <td>Gender</td>\n",
       "      <td>Var_1</td>\n",
       "      <td>2.736632e-03</td>\n",
       "      <td>1</td>\n",
       "    </tr>\n",
       "    <tr>\n",
       "      <th>5</th>\n",
       "      <td>Gender</td>\n",
       "      <td>Segmentation</td>\n",
       "      <td>9.618144e-03</td>\n",
       "      <td>1</td>\n",
       "    </tr>\n",
       "    <tr>\n",
       "      <th>6</th>\n",
       "      <td>Ever_Married</td>\n",
       "      <td>Gender</td>\n",
       "      <td>5.860621e-25</td>\n",
       "      <td>1</td>\n",
       "    </tr>\n",
       "    <tr>\n",
       "      <th>7</th>\n",
       "      <td>Ever_Married</td>\n",
       "      <td>Graduated</td>\n",
       "      <td>5.280209e-68</td>\n",
       "      <td>1</td>\n",
       "    </tr>\n",
       "    <tr>\n",
       "      <th>8</th>\n",
       "      <td>Ever_Married</td>\n",
       "      <td>Profession</td>\n",
       "      <td>0.000000e+00</td>\n",
       "      <td>1</td>\n",
       "    </tr>\n",
       "    <tr>\n",
       "      <th>9</th>\n",
       "      <td>Ever_Married</td>\n",
       "      <td>Spending_Score</td>\n",
       "      <td>0.000000e+00</td>\n",
       "      <td>1</td>\n",
       "    </tr>\n",
       "    <tr>\n",
       "      <th>10</th>\n",
       "      <td>Ever_Married</td>\n",
       "      <td>Var_1</td>\n",
       "      <td>1.860293e-16</td>\n",
       "      <td>1</td>\n",
       "    </tr>\n",
       "    <tr>\n",
       "      <th>11</th>\n",
       "      <td>Ever_Married</td>\n",
       "      <td>Segmentation</td>\n",
       "      <td>1.763492e-305</td>\n",
       "      <td>1</td>\n",
       "    </tr>\n",
       "    <tr>\n",
       "      <th>12</th>\n",
       "      <td>Graduated</td>\n",
       "      <td>Gender</td>\n",
       "      <td>2.480211e-03</td>\n",
       "      <td>1</td>\n",
       "    </tr>\n",
       "    <tr>\n",
       "      <th>13</th>\n",
       "      <td>Graduated</td>\n",
       "      <td>Ever_Married</td>\n",
       "      <td>5.280209e-68</td>\n",
       "      <td>1</td>\n",
       "    </tr>\n",
       "    <tr>\n",
       "      <th>14</th>\n",
       "      <td>Graduated</td>\n",
       "      <td>Profession</td>\n",
       "      <td>4.677842e-277</td>\n",
       "      <td>1</td>\n",
       "    </tr>\n",
       "    <tr>\n",
       "      <th>15</th>\n",
       "      <td>Graduated</td>\n",
       "      <td>Spending_Score</td>\n",
       "      <td>2.829862e-41</td>\n",
       "      <td>1</td>\n",
       "    </tr>\n",
       "    <tr>\n",
       "      <th>16</th>\n",
       "      <td>Graduated</td>\n",
       "      <td>Var_1</td>\n",
       "      <td>3.146471e-82</td>\n",
       "      <td>1</td>\n",
       "    </tr>\n",
       "    <tr>\n",
       "      <th>17</th>\n",
       "      <td>Graduated</td>\n",
       "      <td>Segmentation</td>\n",
       "      <td>4.384657e-231</td>\n",
       "      <td>1</td>\n",
       "    </tr>\n",
       "    <tr>\n",
       "      <th>18</th>\n",
       "      <td>Profession</td>\n",
       "      <td>Gender</td>\n",
       "      <td>6.928513e-217</td>\n",
       "      <td>1</td>\n",
       "    </tr>\n",
       "    <tr>\n",
       "      <th>19</th>\n",
       "      <td>Profession</td>\n",
       "      <td>Ever_Married</td>\n",
       "      <td>0.000000e+00</td>\n",
       "      <td>1</td>\n",
       "    </tr>\n",
       "    <tr>\n",
       "      <th>20</th>\n",
       "      <td>Profession</td>\n",
       "      <td>Graduated</td>\n",
       "      <td>4.677842e-277</td>\n",
       "      <td>1</td>\n",
       "    </tr>\n",
       "    <tr>\n",
       "      <th>21</th>\n",
       "      <td>Profession</td>\n",
       "      <td>Spending_Score</td>\n",
       "      <td>0.000000e+00</td>\n",
       "      <td>1</td>\n",
       "    </tr>\n",
       "    <tr>\n",
       "      <th>22</th>\n",
       "      <td>Profession</td>\n",
       "      <td>Var_1</td>\n",
       "      <td>1.378717e-92</td>\n",
       "      <td>1</td>\n",
       "    </tr>\n",
       "    <tr>\n",
       "      <th>23</th>\n",
       "      <td>Profession</td>\n",
       "      <td>Segmentation</td>\n",
       "      <td>0.000000e+00</td>\n",
       "      <td>1</td>\n",
       "    </tr>\n",
       "    <tr>\n",
       "      <th>24</th>\n",
       "      <td>Spending_Score</td>\n",
       "      <td>Gender</td>\n",
       "      <td>9.102926e-08</td>\n",
       "      <td>1</td>\n",
       "    </tr>\n",
       "    <tr>\n",
       "      <th>25</th>\n",
       "      <td>Spending_Score</td>\n",
       "      <td>Ever_Married</td>\n",
       "      <td>0.000000e+00</td>\n",
       "      <td>1</td>\n",
       "    </tr>\n",
       "    <tr>\n",
       "      <th>26</th>\n",
       "      <td>Spending_Score</td>\n",
       "      <td>Graduated</td>\n",
       "      <td>2.829862e-41</td>\n",
       "      <td>1</td>\n",
       "    </tr>\n",
       "    <tr>\n",
       "      <th>27</th>\n",
       "      <td>Spending_Score</td>\n",
       "      <td>Profession</td>\n",
       "      <td>0.000000e+00</td>\n",
       "      <td>1</td>\n",
       "    </tr>\n",
       "    <tr>\n",
       "      <th>28</th>\n",
       "      <td>Spending_Score</td>\n",
       "      <td>Var_1</td>\n",
       "      <td>8.366811e-14</td>\n",
       "      <td>1</td>\n",
       "    </tr>\n",
       "    <tr>\n",
       "      <th>29</th>\n",
       "      <td>Spending_Score</td>\n",
       "      <td>Segmentation</td>\n",
       "      <td>0.000000e+00</td>\n",
       "      <td>1</td>\n",
       "    </tr>\n",
       "    <tr>\n",
       "      <th>30</th>\n",
       "      <td>Var_1</td>\n",
       "      <td>Gender</td>\n",
       "      <td>2.736632e-03</td>\n",
       "      <td>1</td>\n",
       "    </tr>\n",
       "    <tr>\n",
       "      <th>31</th>\n",
       "      <td>Var_1</td>\n",
       "      <td>Ever_Married</td>\n",
       "      <td>1.860293e-16</td>\n",
       "      <td>1</td>\n",
       "    </tr>\n",
       "    <tr>\n",
       "      <th>32</th>\n",
       "      <td>Var_1</td>\n",
       "      <td>Graduated</td>\n",
       "      <td>3.146471e-82</td>\n",
       "      <td>1</td>\n",
       "    </tr>\n",
       "    <tr>\n",
       "      <th>33</th>\n",
       "      <td>Var_1</td>\n",
       "      <td>Profession</td>\n",
       "      <td>1.378717e-92</td>\n",
       "      <td>1</td>\n",
       "    </tr>\n",
       "    <tr>\n",
       "      <th>34</th>\n",
       "      <td>Var_1</td>\n",
       "      <td>Spending_Score</td>\n",
       "      <td>8.366811e-14</td>\n",
       "      <td>1</td>\n",
       "    </tr>\n",
       "    <tr>\n",
       "      <th>35</th>\n",
       "      <td>Var_1</td>\n",
       "      <td>Segmentation</td>\n",
       "      <td>1.646068e-41</td>\n",
       "      <td>1</td>\n",
       "    </tr>\n",
       "    <tr>\n",
       "      <th>36</th>\n",
       "      <td>Segmentation</td>\n",
       "      <td>Gender</td>\n",
       "      <td>9.618144e-03</td>\n",
       "      <td>1</td>\n",
       "    </tr>\n",
       "    <tr>\n",
       "      <th>37</th>\n",
       "      <td>Segmentation</td>\n",
       "      <td>Ever_Married</td>\n",
       "      <td>1.763492e-305</td>\n",
       "      <td>1</td>\n",
       "    </tr>\n",
       "    <tr>\n",
       "      <th>38</th>\n",
       "      <td>Segmentation</td>\n",
       "      <td>Graduated</td>\n",
       "      <td>4.384657e-231</td>\n",
       "      <td>1</td>\n",
       "    </tr>\n",
       "    <tr>\n",
       "      <th>39</th>\n",
       "      <td>Segmentation</td>\n",
       "      <td>Profession</td>\n",
       "      <td>0.000000e+00</td>\n",
       "      <td>1</td>\n",
       "    </tr>\n",
       "    <tr>\n",
       "      <th>40</th>\n",
       "      <td>Segmentation</td>\n",
       "      <td>Spending_Score</td>\n",
       "      <td>0.000000e+00</td>\n",
       "      <td>1</td>\n",
       "    </tr>\n",
       "    <tr>\n",
       "      <th>41</th>\n",
       "      <td>Segmentation</td>\n",
       "      <td>Var_1</td>\n",
       "      <td>1.646068e-41</td>\n",
       "      <td>1</td>\n",
       "    </tr>\n",
       "  </tbody>\n",
       "</table>\n",
       "</div>"
      ],
      "text/plain": [
       "              Var1            Var2          Coeff  Relationship\n",
       "0           Gender    Ever_Married   5.860621e-25             1\n",
       "1           Gender       Graduated   2.480211e-03             1\n",
       "2           Gender      Profession  6.928513e-217             1\n",
       "3           Gender  Spending_Score   9.102926e-08             1\n",
       "4           Gender           Var_1   2.736632e-03             1\n",
       "5           Gender    Segmentation   9.618144e-03             1\n",
       "6     Ever_Married          Gender   5.860621e-25             1\n",
       "7     Ever_Married       Graduated   5.280209e-68             1\n",
       "8     Ever_Married      Profession   0.000000e+00             1\n",
       "9     Ever_Married  Spending_Score   0.000000e+00             1\n",
       "10    Ever_Married           Var_1   1.860293e-16             1\n",
       "11    Ever_Married    Segmentation  1.763492e-305             1\n",
       "12       Graduated          Gender   2.480211e-03             1\n",
       "13       Graduated    Ever_Married   5.280209e-68             1\n",
       "14       Graduated      Profession  4.677842e-277             1\n",
       "15       Graduated  Spending_Score   2.829862e-41             1\n",
       "16       Graduated           Var_1   3.146471e-82             1\n",
       "17       Graduated    Segmentation  4.384657e-231             1\n",
       "18      Profession          Gender  6.928513e-217             1\n",
       "19      Profession    Ever_Married   0.000000e+00             1\n",
       "20      Profession       Graduated  4.677842e-277             1\n",
       "21      Profession  Spending_Score   0.000000e+00             1\n",
       "22      Profession           Var_1   1.378717e-92             1\n",
       "23      Profession    Segmentation   0.000000e+00             1\n",
       "24  Spending_Score          Gender   9.102926e-08             1\n",
       "25  Spending_Score    Ever_Married   0.000000e+00             1\n",
       "26  Spending_Score       Graduated   2.829862e-41             1\n",
       "27  Spending_Score      Profession   0.000000e+00             1\n",
       "28  Spending_Score           Var_1   8.366811e-14             1\n",
       "29  Spending_Score    Segmentation   0.000000e+00             1\n",
       "30           Var_1          Gender   2.736632e-03             1\n",
       "31           Var_1    Ever_Married   1.860293e-16             1\n",
       "32           Var_1       Graduated   3.146471e-82             1\n",
       "33           Var_1      Profession   1.378717e-92             1\n",
       "34           Var_1  Spending_Score   8.366811e-14             1\n",
       "35           Var_1    Segmentation   1.646068e-41             1\n",
       "36    Segmentation          Gender   9.618144e-03             1\n",
       "37    Segmentation    Ever_Married  1.763492e-305             1\n",
       "38    Segmentation       Graduated  4.384657e-231             1\n",
       "39    Segmentation      Profession   0.000000e+00             1\n",
       "40    Segmentation  Spending_Score   0.000000e+00             1\n",
       "41    Segmentation           Var_1   1.646068e-41             1"
      ]
     },
     "execution_count": 117,
     "metadata": {},
     "output_type": "execute_result"
    }
   ],
   "source": [
    "chi_2_test"
   ]
  },
  {
   "cell_type": "code",
   "execution_count": null,
   "metadata": {},
   "outputs": [],
   "source": []
  },
  {
   "cell_type": "code",
   "execution_count": null,
   "metadata": {},
   "outputs": [],
   "source": []
  }
 ],
 "metadata": {
  "kernelspec": {
   "display_name": "base",
   "language": "python",
   "name": "python3"
  },
  "language_info": {
   "codemirror_mode": {
    "name": "ipython",
    "version": 3
   },
   "file_extension": ".py",
   "mimetype": "text/x-python",
   "name": "python",
   "nbconvert_exporter": "python",
   "pygments_lexer": "ipython3",
   "version": "3.9.13"
  },
  "orig_nbformat": 4,
  "vscode": {
   "interpreter": {
    "hash": "e17245beed66d97676295f18f5af02f52c1ff0b20014505018e20bb50c7c46d6"
   }
  }
 },
 "nbformat": 4,
 "nbformat_minor": 2
}
